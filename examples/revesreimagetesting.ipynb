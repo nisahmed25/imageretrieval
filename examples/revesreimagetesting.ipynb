{
 "cells": [
  {
   "cell_type": "code",
   "execution_count": 8,
   "metadata": {},
   "outputs": [],
   "source": [
    "import numpy as np\n",
    "import matplotlib.pyplot as plt\n",
    "import pandas as pd\n",
    "import cv2\n",
    "import os\n",
    "from tqdm import tqdm\n",
    "import tensorflow as tf\n",
    "from keras.applications.inception_v3 import InceptionV3\n",
    "from keras.models import Model\n",
    "from keras.layers import Dense, GlobalAveragePooling2D\n",
    "\n",
    "class similarimage():\n",
    "    \n",
    "    def __init__(self, filepath):\n",
    "        self.filepath = filepath\n",
    "        self.model = self.model1()\n",
    "    \n",
    "    def model1(self):\n",
    "        base_model = InceptionV3(weights='imagenet', include_top=False)\n",
    "        x = base_model.output\n",
    "        x = GlobalAveragePooling2D()(x)\n",
    "        self.model = Model(inputs=base_model.input, outputs=x)\n",
    "        return self.model\n",
    "\n",
    "    def features(self, filepath):\n",
    "        featurestest = []\n",
    "        img = cv2.imread(filepath)\n",
    "        img = cv2.cvtColor(img, cv2.COLOR_BGR2RGB)\n",
    "        img = cv2.resize(img, (299,299)) \n",
    "        img = img/255.0\n",
    "        img = img.reshape(1,299, 299, 3)\n",
    "        out = self.model.predict(img)\n",
    "        featurestest.append(out)\n",
    "        features1 = np.squeeze(featurestest)\n",
    "        features=features1.reshape(1,-1)\n",
    "        return features\n",
    "\n",
    "def similarity(filepath):\n",
    "    sim = similarimage(filepath)\n",
    "    df = pd.read_csv('./features1.csv')\n",
    "    df1 =df.drop(labels='0', axis=1)\n",
    "    embeddings = df1.to_numpy()\n",
    "    dist = (embeddings - sim.features(filepath))**2\n",
    "    dist = np.sqrt(np.sum(dist, axis=1))\n",
    "    dfdist = pd.DataFrame({'distance':dist})\n",
    "    dfdist.sort_values('distance', ascending=True, inplace=True)\n",
    "    ind=list(dfdist.index)[0]\n",
    "    return df.iloc[ind][0]"
   ]
  },
  {
   "cell_type": "code",
   "execution_count": 11,
   "metadata": {},
   "outputs": [
    {
     "data": {
      "text/plain": [
       "'/home/nisar/Documents/nisar/reverse image/images00a3edd22dc7859c487a64777fc8d093.jpg'"
      ]
     },
     "execution_count": 11,
     "metadata": {},
     "output_type": "execute_result"
    }
   ],
   "source": [
    "similarity('./images/00a3edd22dc7859c487a64777fc8d093.jpg')"
   ]
  },
  {
   "cell_type": "code",
   "execution_count": null,
   "metadata": {},
   "outputs": [],
   "source": []
  }
 ],
 "metadata": {
  "kernelspec": {
   "display_name": "dogbreed",
   "language": "python",
   "name": "dogbreed"
  },
  "language_info": {
   "codemirror_mode": {
    "name": "ipython",
    "version": 3
   },
   "file_extension": ".py",
   "mimetype": "text/x-python",
   "name": "python",
   "nbconvert_exporter": "python",
   "pygments_lexer": "ipython3",
   "version": "3.6.9"
  }
 },
 "nbformat": 4,
 "nbformat_minor": 2
}
